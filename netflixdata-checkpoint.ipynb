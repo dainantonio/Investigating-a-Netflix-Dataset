{
 "cells": [
  {
   "cell_type": "markdown",
   "metadata": {},
   "source": [
    "# ** Investigating my Netflix Dataset**\n",
    "\n",
    "### Dain Russell, 2020\n",
    "\n",
    "\n",
    "\n",
    "## **Table of Contents**\n",
    "\n",
    "* [Introduction](#introduction)\n",
    "* [Data Wrangling](#data wrangling)\n",
    "    * [General Properties](#general properties)\n",
    "    * [Dataset Observations](#dataset observations)\n",
    "    * [Data Cleaning](#data cleaning)\n",
    "* [Exploratory Data Analysis](#exploratory data analysis)   \n",
    "    * [Research Question 1](#research question 1)\n",
    "    * [Research Question 2](#research question 2)\n",
    "    * [Research Question 3](#research question 3)\n",
    "    * [Research Question 4](#research question 3)\n",
    "* [Conclusion](#conclusion)\n",
    "* [Citations](#citations)\n",
    "\n",
    "\n"
   ]
  },
  {
   "cell_type": "markdown",
   "metadata": {},
   "source": [
    "\n",
    "## **Introduction** <a class=\"anchor\" id=\"introduction\"></a>\n",
    "> In this project, we analyzed a dataset and then communicated the findings about it. We used the Python libraries NumPy, pandas, and Matplotlib to make your analysis easier.\n",
    "\n",
    "> This data set contains information about my netflix viewing activity collected from Netflix. This includes, profile name, start time, duration, title, and country.\n",
    "\n",
    "> The \"Title\" column has both the name of the show and the episodes. That will need to be filtered into 2 separate columns later on.\n",
    "\n",
    "> Generally, notations such as “-1” or “NULL” indicate no or deleted information.\n",
    "\n",
    "> In some cases, if your account is set to a specific language, our systems might record\n",
    "column headings or TV show/movie names in that language, as opposed to English. \n",
    "\n",
    "> Unless otherwise indicated, all dates and times in charts and tables are provided in\n",
    "Coordinated Universal Time (UTC), which is the primary time standard by which the\n",
    "world regulates clocks and time. We will convert this to local timezone.\n",
    "\n",
    "**Description of the raw dataset columns:-**\n",
    "\n",
    "* “Profile Name” - the name of the profile in which viewing occurred.\n",
    "* “Start Time” - the UTC date and time viewing started.\n",
    "* “Duration” - the length of the viewing session.\n",
    "* “Attributes” - this column shows additional details of interactions with streamed content, where available:\n",
    "*  “Autoplayed: user action: None” - means that the viewer did not interact with that TV show or movie.\n",
    "* “Autoplayed: user action: Unspecified” - means that the viewer either interacted with the TV show or movie (such as clicking on the box art and \n",
    "\n",
    "\n",
    "\n",
    "\n",
    "\n",
    "\n",
    "\n"
   ]
  },
  {
   "cell_type": "markdown",
   "metadata": {},
   "source": [
    "#### Let's get started!\n",
    "We set up the import statements for all of the packages we plan to use.\n",
    "\n"
   ]
  },
  {
   "cell_type": "code",
   "execution_count": 7,
   "metadata": {
    "scrolled": true
   },
   "outputs": [],
   "source": [
    "# import statements for all of the packages \n",
    "import pandas as pd  \n",
    "import numpy as np  \n",
    "import csv \n",
    "import seaborn as sns\n",
    "import matplotlib.pyplot as plt\n",
    "\n",
    "# 'magic word' so that your visualizations are plotted\n",
    "%matplotlib inline\n",
    "\n",
    "\n"
   ]
  },
  {
   "cell_type": "markdown",
   "metadata": {},
   "source": [
    "## **Data Wrangling**<a class=\"anchor\" id=\"data wrangling\"></a>\n",
    "In this section of the report, the data is loaded, checked for  cleanliness, and then trimmed and cleaned for analysis. \n",
    "\n",
    "\n",
    "\n",
    "\n",
    "\n"
   ]
  },
  {
   "cell_type": "markdown",
   "metadata": {},
   "source": [
    "### **General Properties**<a class=\"anchor\" id=\"general properties\"></a>\n"
   ]
  },
  {
   "cell_type": "markdown",
   "metadata": {},
   "source": [
    "Here we load and read the data into the pandas dataframe we are calling `netflix_df`.\n",
    "\n",
    "**Now let's preview the first 5 and last 5 rows of our data.**"
   ]
  },
  {
   "cell_type": "code",
   "execution_count": 8,
   "metadata": {
    "scrolled": false
   },
   "outputs": [
    {
     "data": {
      "text/html": [
       "<div>\n",
       "<style scoped>\n",
       "    .dataframe tbody tr th:only-of-type {\n",
       "        vertical-align: middle;\n",
       "    }\n",
       "\n",
       "    .dataframe tbody tr th {\n",
       "        vertical-align: top;\n",
       "    }\n",
       "\n",
       "    .dataframe thead th {\n",
       "        text-align: right;\n",
       "    }\n",
       "</style>\n",
       "<table border=\"1\" class=\"dataframe\">\n",
       "  <thead>\n",
       "    <tr style=\"text-align: right;\">\n",
       "      <th></th>\n",
       "      <th>Profile Name</th>\n",
       "      <th>Start Time</th>\n",
       "      <th>Duration</th>\n",
       "      <th>Attributes</th>\n",
       "      <th>Title</th>\n",
       "      <th>Supplemental Video Type</th>\n",
       "      <th>Device Type</th>\n",
       "      <th>Bookmark</th>\n",
       "      <th>Latest Bookmark</th>\n",
       "      <th>Country</th>\n",
       "    </tr>\n",
       "  </thead>\n",
       "  <tbody>\n",
       "    <tr>\n",
       "      <th>0</th>\n",
       "      <td>Dain</td>\n",
       "      <td>2020-11-24 03:26:17</td>\n",
       "      <td>00:02:00</td>\n",
       "      <td>NaN</td>\n",
       "      <td>Bates Motel: Season 4: 'Til Death Do You Part ...</td>\n",
       "      <td>NaN</td>\n",
       "      <td>Vizio MG186 MT5597DV CAST/HYBRID INX Smart TV</td>\n",
       "      <td>00:02:46</td>\n",
       "      <td>00:02:46</td>\n",
       "      <td>US (United States)</td>\n",
       "    </tr>\n",
       "    <tr>\n",
       "      <th>1</th>\n",
       "      <td>Dain</td>\n",
       "      <td>2020-11-24 02:43:01</td>\n",
       "      <td>00:42:06</td>\n",
       "      <td>NaN</td>\n",
       "      <td>Bates Motel: Season 4: Goodnight Mother (Episo...</td>\n",
       "      <td>NaN</td>\n",
       "      <td>Vizio MG186 MT5597DV CAST/HYBRID INX Smart TV</td>\n",
       "      <td>00:42:56</td>\n",
       "      <td>00:42:56</td>\n",
       "      <td>US (United States)</td>\n",
       "    </tr>\n",
       "    <tr>\n",
       "      <th>2</th>\n",
       "      <td>Dain</td>\n",
       "      <td>2020-11-24 01:52:48</td>\n",
       "      <td>00:42:31</td>\n",
       "      <td>Autoplayed: user action: Unspecified;</td>\n",
       "      <td>Bates Motel: Season 4: A Danger to Himself and...</td>\n",
       "      <td>NaN</td>\n",
       "      <td>Vizio MG186 MT5597DV CAST/HYBRID INX Smart TV</td>\n",
       "      <td>00:42:31</td>\n",
       "      <td>00:42:31</td>\n",
       "      <td>US (United States)</td>\n",
       "    </tr>\n",
       "    <tr>\n",
       "      <th>3</th>\n",
       "      <td>Dain</td>\n",
       "      <td>2020-11-24 01:52:41</td>\n",
       "      <td>00:00:05</td>\n",
       "      <td>Autoplayed: user action: None;</td>\n",
       "      <td>Bates Motel: Season 5_hook_primary_16x9</td>\n",
       "      <td>HOOK</td>\n",
       "      <td>Vizio MG186 MT5597DV CAST/HYBRID INX Smart TV</td>\n",
       "      <td>00:00:05</td>\n",
       "      <td>00:00:05</td>\n",
       "      <td>US (United States)</td>\n",
       "    </tr>\n",
       "    <tr>\n",
       "      <th>4</th>\n",
       "      <td>Dain</td>\n",
       "      <td>2020-11-24 01:52:26</td>\n",
       "      <td>00:00:05</td>\n",
       "      <td>Autoplayed: user action: None;</td>\n",
       "      <td>Survivor: Season 28_hook_primary_16x9</td>\n",
       "      <td>HOOK</td>\n",
       "      <td>Vizio MG186 MT5597DV CAST/HYBRID INX Smart TV</td>\n",
       "      <td>00:00:05</td>\n",
       "      <td>00:00:05</td>\n",
       "      <td>US (United States)</td>\n",
       "    </tr>\n",
       "  </tbody>\n",
       "</table>\n",
       "</div>"
      ],
      "text/plain": [
       "  Profile Name           Start Time  Duration  \\\n",
       "0         Dain  2020-11-24 03:26:17  00:02:00   \n",
       "1         Dain  2020-11-24 02:43:01  00:42:06   \n",
       "2         Dain  2020-11-24 01:52:48  00:42:31   \n",
       "3         Dain  2020-11-24 01:52:41  00:00:05   \n",
       "4         Dain  2020-11-24 01:52:26  00:00:05   \n",
       "\n",
       "                               Attributes  \\\n",
       "0                                     NaN   \n",
       "1                                     NaN   \n",
       "2  Autoplayed: user action: Unspecified;    \n",
       "3         Autoplayed: user action: None;    \n",
       "4         Autoplayed: user action: None;    \n",
       "\n",
       "                                               Title Supplemental Video Type  \\\n",
       "0  Bates Motel: Season 4: 'Til Death Do You Part ...                     NaN   \n",
       "1  Bates Motel: Season 4: Goodnight Mother (Episo...                     NaN   \n",
       "2  Bates Motel: Season 4: A Danger to Himself and...                     NaN   \n",
       "3            Bates Motel: Season 5_hook_primary_16x9                    HOOK   \n",
       "4              Survivor: Season 28_hook_primary_16x9                    HOOK   \n",
       "\n",
       "                                     Device Type  Bookmark Latest Bookmark  \\\n",
       "0  Vizio MG186 MT5597DV CAST/HYBRID INX Smart TV  00:02:46        00:02:46   \n",
       "1  Vizio MG186 MT5597DV CAST/HYBRID INX Smart TV  00:42:56        00:42:56   \n",
       "2  Vizio MG186 MT5597DV CAST/HYBRID INX Smart TV  00:42:31        00:42:31   \n",
       "3  Vizio MG186 MT5597DV CAST/HYBRID INX Smart TV  00:00:05        00:00:05   \n",
       "4  Vizio MG186 MT5597DV CAST/HYBRID INX Smart TV  00:00:05        00:00:05   \n",
       "\n",
       "              Country  \n",
       "0  US (United States)  \n",
       "1  US (United States)  \n",
       "2  US (United States)  \n",
       "3  US (United States)  \n",
       "4  US (United States)  "
      ]
     },
     "execution_count": 8,
     "metadata": {},
     "output_type": "execute_result"
    }
   ],
   "source": [
    "# Load and Read the CSV File Using Pandas read_csv function from excel spreadsheet\n",
    "netflix_df = pd.read_csv(r'C:\\DataAnalytics\\ViewingActivity.csv')\n",
    "\n",
    "#printing first five rows with defined columns of tmdb-movies database\n",
    "netflix_df.head()\n"
   ]
  },
  {
   "cell_type": "markdown",
   "metadata": {},
   "source": [
    "**Generating the shape of our original dataframe in terms of Rows and Columns.**"
   ]
  },
  {
   "cell_type": "code",
   "execution_count": 9,
   "metadata": {
    "scrolled": false
   },
   "outputs": [
    {
     "name": "stdout",
     "output_type": "stream",
     "text": [
      "There are 17625 rows and 10 columns in the dataset.\n"
     ]
    }
   ],
   "source": [
    "# dataframe.shape \n",
    "# Get the number of rows and columns\n",
    "print((\"There are {} rows and {} columns in the dataset.\".format(netflix_df.shape[0], netflix_df.shape[1])))\n"
   ]
  },
  {
   "cell_type": "markdown",
   "metadata": {},
   "source": [
    "**Let's get a summary of the dataset that includes index and column dtypes, non-null values and memory usage**"
   ]
  },
  {
   "cell_type": "code",
   "execution_count": 4,
   "metadata": {},
   "outputs": [
    {
     "name": "stdout",
     "output_type": "stream",
     "text": [
      "<class 'pandas.core.frame.DataFrame'>\n",
      "RangeIndex: 17625 entries, 0 to 17624\n",
      "Data columns (total 10 columns):\n",
      " #   Column                   Non-Null Count  Dtype \n",
      "---  ------                   --------------  ----- \n",
      " 0   Profile Name             17625 non-null  object\n",
      " 1   Start Time               17625 non-null  object\n",
      " 2   Duration                 17625 non-null  object\n",
      " 3   Attributes               12224 non-null  object\n",
      " 4   Title                    17625 non-null  object\n",
      " 5   Supplemental Video Type  6716 non-null   object\n",
      " 6   Device Type              17625 non-null  object\n",
      " 7   Bookmark                 17625 non-null  object\n",
      " 8   Latest Bookmark          17625 non-null  object\n",
      " 9   Country                  17625 non-null  object\n",
      "dtypes: object(10)\n",
      "memory usage: 1.3+ MB\n"
     ]
    }
   ],
   "source": [
    "#raw datset summary that displays missing values in each column\n",
    "netflix_df.info()"
   ]
  },
  {
   "cell_type": "markdown",
   "metadata": {},
   "source": [
    "We can see from the above summary that there are null values for the columns \"Attribute\" and \"Supplemental Video Type\". \"Start time\" and \"Duration\" are objects so we will convert those later to datetime.\n",
    "Below we are using a heatmap to visualize the missing value occurence."
   ]
  },
  {
   "cell_type": "code",
   "execution_count": 13,
   "metadata": {},
   "outputs": [
    {
     "data": {
      "image/png": "[encoded data removed]",
      "text/plain": [
       "<Figure size 576x432 with 2 Axes>"
      ]
     },
     "metadata": {
      "needs_background": "light"
     },
     "output_type": "display_data"
    },
    {
     "name": "stdout",
     "output_type": "stream",
     "text": [
      "Attributes's null rate :30.64%\n",
      "Supplemental Video Type's null rate :61.9%\n"
     ]
    }
   ],
   "source": [
    "#plot a heatmap to visualize the location of missing values\n",
    "plt.figure(figsize=(8,6))\n",
    "sns.heatmap(netflix_df.isnull())\n",
    "plt.show()\n",
    "\n",
    "for i in netflix_df.columns:\n",
    "    null_rate = netflix_df[i].isna().sum() / len(netflix_df) * 100 \n",
    "    if null_rate > 0 :\n",
    "        print(\"{}'s null rate :{}%\".format(i,round(null_rate,2)))\n"
   ]
  },
  {
   "cell_type": "markdown",
   "metadata": {},
   "source": [
    "**Checking for Null Values**"
   ]
  },
  {
   "cell_type": "code",
   "execution_count": null,
   "metadata": {},
   "outputs": [],
   "source": [
    "netflix_df.isnull().sum()"
   ]
  },
  {
   "cell_type": "markdown",
   "metadata": {},
   "source": []
  },
  {
   "cell_type": "markdown",
   "metadata": {},
   "source": [
    "**Descriptive Summary Statistics on Raw Data.**"
   ]
  },
  {
   "cell_type": "code",
   "execution_count": null,
   "metadata": {
    "scrolled": true
   },
   "outputs": [],
   "source": [
    "#this function will generate decriptive statistics summary\n",
    "netflix_df.describe()"
   ]
  },
  {
   "cell_type": "code",
   "execution_count": null,
   "metadata": {},
   "outputs": [],
   "source": []
  },
  {
   "cell_type": "markdown",
   "metadata": {},
   "source": [
    "### **Data Cleaning**<a class=\"anchor\" id=\"data cleaning\"></a>\n",
    "Let's clean up the data in order to make it easier to handle since we are only focusing on just a few columns.\n",
    "\n"
   ]
  },
  {
   "cell_type": "markdown",
   "metadata": {},
   "source": [
    "# **Exploratory Data Analysis**<a class=\"anchor\" id=\"exploratory data analysis\"></a>\n"
   ]
  }
 ],
 "metadata": {
  "kernelspec": {
   "display_name": "Python 3",
   "language": "python",
   "name": "python3"
  },
  "language_info": {
   "codemirror_mode": {
    "name": "ipython",
    "version": 3
   },
   "file_extension": ".py",
   "mimetype": "text/x-python",
   "name": "python",
   "nbconvert_exporter": "python",
   "pygments_lexer": "ipython3",
   "version": "3.8.3"
  }
 },
 "nbformat": 4,
 "nbformat_minor": 4
}
