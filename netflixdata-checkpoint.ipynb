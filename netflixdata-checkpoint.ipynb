{
 "cells": [
  {
   "cell_type": "markdown",
   "metadata": {},
   "source": [
    "# ** Investigating my Netflix Dataset**\n",
    "\n",
    "### Dain Russell, 2020\n",
    "\n",
    "\n",
    "\n",
    "## **Table of Contents**\n",
    "\n",
    "* [Introduction](#introduction)\n",
    "* [Data Wrangling](#data wrangling)\n",
    "    * [General Properties](#general properties)\n",
    "    * [Dataset Observations](#dataset observations)\n",
    "    * [Data Cleaning](#data cleaning)\n",
    "* [Exploratory Data Analysis](#exploratory data analysis)   \n",
    "    * [Research Question 1](#research question 1)\n",
    "    * [Research Question 2](#research question 2)\n",
    "    * [Research Question 3](#research question 3)\n",
    "    * [Research Question 4](#research question 3)\n",
    "* [Conclusion](#conclusion)\n",
    "* [Citations](#citations)\n",
    "\n",
    "\n"
   ]
  },
  {
   "cell_type": "markdown",
   "metadata": {},
   "source": [
    "\n",
    "## **Introduction** <a class=\"anchor\" id=\"introduction\"></a>\n",
    "> In this project, we analyzed a dataset and then communicated the findings about it. We used the Python libraries NumPy, pandas, and Matplotlib to make your analysis easier.\n",
    "\n",
    "> This data set contains information about my netflix viewing activity collected from Netflix. This includes, profile name, start time, duration, title, and country.\n",
    "\n",
    "\n",
    "\n",
    "\n",
    "\n",
    "\n",
    "\n"
   ]
  },
  {
   "cell_type": "markdown",
   "metadata": {},
   "source": [
    "#### Let's get started!\n",
    "We set up the import statements for all of the packages we plan to use.\n",
    "\n"
   ]
  },
  {
   "cell_type": "code",
   "execution_count": 1,
   "metadata": {
    "scrolled": true
   },
   "outputs": [],
   "source": [
    "# import statements for all of the packages \n",
    "import pandas as pd  \n",
    "import numpy as np  \n",
    "import csv \n",
    "import seaborn as sns\n",
    "import matplotlib.pyplot as plt\n",
    "\n",
    "# 'magic word' so that your visualizations are plotted\n",
    "%matplotlib inline\n",
    "\n",
    "\n"
   ]
  },
  {
   "cell_type": "markdown",
   "metadata": {},
   "source": [
    "## **Data Wrangling**<a class=\"anchor\" id=\"data wrangling\"></a>\n",
    "In this section of the report, the data is loaded, checked for  cleanliness, and then trimmed and cleaned for analysis. \n",
    "\n",
    "\n",
    "\n",
    "\n",
    "\n"
   ]
  },
  {
   "cell_type": "markdown",
   "metadata": {},
   "source": [
    "### **General Properties**<a class=\"anchor\" id=\"general properties\"></a>\n"
   ]
  },
  {
   "cell_type": "markdown",
   "metadata": {},
   "source": [
    "Here we load and read the data into the pandas dataframe we are calling `netflix_df`.\n",
    "\n",
    "**Now let's preview the first 5 and last 5 rows of our data.**"
   ]
  },
  {
   "cell_type": "code",
   "execution_count": 7,
   "metadata": {
    "scrolled": true
   },
   "outputs": [
    {
     "data": {
      "text/html": [
       "<div>\n",
       "<style scoped>\n",
       "    .dataframe tbody tr th:only-of-type {\n",
       "        vertical-align: middle;\n",
       "    }\n",
       "\n",
       "    .dataframe tbody tr th {\n",
       "        vertical-align: top;\n",
       "    }\n",
       "\n",
       "    .dataframe thead th {\n",
       "        text-align: right;\n",
       "    }\n",
       "</style>\n",
       "<table border=\"1\" class=\"dataframe\">\n",
       "  <thead>\n",
       "    <tr style=\"text-align: right;\">\n",
       "      <th></th>\n",
       "      <th>Profile Name</th>\n",
       "      <th>Start Time</th>\n",
       "      <th>Duration</th>\n",
       "      <th>Attributes</th>\n",
       "      <th>Title</th>\n",
       "      <th>Supplemental Video Type</th>\n",
       "      <th>Device Type</th>\n",
       "      <th>Bookmark</th>\n",
       "      <th>Latest Bookmark</th>\n",
       "      <th>Country</th>\n",
       "    </tr>\n",
       "  </thead>\n",
       "  <tbody>\n",
       "    <tr>\n",
       "      <th>0</th>\n",
       "      <td>Dain</td>\n",
       "      <td>2020-11-24 03:26:17</td>\n",
       "      <td>00:02:00</td>\n",
       "      <td>NaN</td>\n",
       "      <td>Bates Motel: Season 4: 'Til Death Do You Part ...</td>\n",
       "      <td>NaN</td>\n",
       "      <td>Vizio MG186 MT5597DV CAST/HYBRID INX Smart TV</td>\n",
       "      <td>00:02:46</td>\n",
       "      <td>00:02:46</td>\n",
       "      <td>US (United States)</td>\n",
       "    </tr>\n",
       "    <tr>\n",
       "      <th>1</th>\n",
       "      <td>Dain</td>\n",
       "      <td>2020-11-24 02:43:01</td>\n",
       "      <td>00:42:06</td>\n",
       "      <td>NaN</td>\n",
       "      <td>Bates Motel: Season 4: Goodnight Mother (Episo...</td>\n",
       "      <td>NaN</td>\n",
       "      <td>Vizio MG186 MT5597DV CAST/HYBRID INX Smart TV</td>\n",
       "      <td>00:42:56</td>\n",
       "      <td>00:42:56</td>\n",
       "      <td>US (United States)</td>\n",
       "    </tr>\n",
       "    <tr>\n",
       "      <th>2</th>\n",
       "      <td>Dain</td>\n",
       "      <td>2020-11-24 01:52:48</td>\n",
       "      <td>00:42:31</td>\n",
       "      <td>Autoplayed: user action: Unspecified;</td>\n",
       "      <td>Bates Motel: Season 4: A Danger to Himself and...</td>\n",
       "      <td>NaN</td>\n",
       "      <td>Vizio MG186 MT5597DV CAST/HYBRID INX Smart TV</td>\n",
       "      <td>00:42:31</td>\n",
       "      <td>00:42:31</td>\n",
       "      <td>US (United States)</td>\n",
       "    </tr>\n",
       "    <tr>\n",
       "      <th>3</th>\n",
       "      <td>Dain</td>\n",
       "      <td>2020-11-24 01:52:41</td>\n",
       "      <td>00:00:05</td>\n",
       "      <td>Autoplayed: user action: None;</td>\n",
       "      <td>Bates Motel: Season 5_hook_primary_16x9</td>\n",
       "      <td>HOOK</td>\n",
       "      <td>Vizio MG186 MT5597DV CAST/HYBRID INX Smart TV</td>\n",
       "      <td>00:00:05</td>\n",
       "      <td>00:00:05</td>\n",
       "      <td>US (United States)</td>\n",
       "    </tr>\n",
       "    <tr>\n",
       "      <th>4</th>\n",
       "      <td>Dain</td>\n",
       "      <td>2020-11-24 01:52:26</td>\n",
       "      <td>00:00:05</td>\n",
       "      <td>Autoplayed: user action: None;</td>\n",
       "      <td>Survivor: Season 28_hook_primary_16x9</td>\n",
       "      <td>HOOK</td>\n",
       "      <td>Vizio MG186 MT5597DV CAST/HYBRID INX Smart TV</td>\n",
       "      <td>00:00:05</td>\n",
       "      <td>00:00:05</td>\n",
       "      <td>US (United States)</td>\n",
       "    </tr>\n",
       "  </tbody>\n",
       "</table>\n",
       "</div>"
      ],
      "text/plain": [
       "  Profile Name           Start Time  Duration  \\\n",
       "0         Dain  2020-11-24 03:26:17  00:02:00   \n",
       "1         Dain  2020-11-24 02:43:01  00:42:06   \n",
       "2         Dain  2020-11-24 01:52:48  00:42:31   \n",
       "3         Dain  2020-11-24 01:52:41  00:00:05   \n",
       "4         Dain  2020-11-24 01:52:26  00:00:05   \n",
       "\n",
       "                               Attributes  \\\n",
       "0                                     NaN   \n",
       "1                                     NaN   \n",
       "2  Autoplayed: user action: Unspecified;    \n",
       "3         Autoplayed: user action: None;    \n",
       "4         Autoplayed: user action: None;    \n",
       "\n",
       "                                               Title Supplemental Video Type  \\\n",
       "0  Bates Motel: Season 4: 'Til Death Do You Part ...                     NaN   \n",
       "1  Bates Motel: Season 4: Goodnight Mother (Episo...                     NaN   \n",
       "2  Bates Motel: Season 4: A Danger to Himself and...                     NaN   \n",
       "3            Bates Motel: Season 5_hook_primary_16x9                    HOOK   \n",
       "4              Survivor: Season 28_hook_primary_16x9                    HOOK   \n",
       "\n",
       "                                     Device Type  Bookmark Latest Bookmark  \\\n",
       "0  Vizio MG186 MT5597DV CAST/HYBRID INX Smart TV  00:02:46        00:02:46   \n",
       "1  Vizio MG186 MT5597DV CAST/HYBRID INX Smart TV  00:42:56        00:42:56   \n",
       "2  Vizio MG186 MT5597DV CAST/HYBRID INX Smart TV  00:42:31        00:42:31   \n",
       "3  Vizio MG186 MT5597DV CAST/HYBRID INX Smart TV  00:00:05        00:00:05   \n",
       "4  Vizio MG186 MT5597DV CAST/HYBRID INX Smart TV  00:00:05        00:00:05   \n",
       "\n",
       "              Country  \n",
       "0  US (United States)  \n",
       "1  US (United States)  \n",
       "2  US (United States)  \n",
       "3  US (United States)  \n",
       "4  US (United States)  "
      ]
     },
     "execution_count": 7,
     "metadata": {},
     "output_type": "execute_result"
    }
   ],
   "source": [
    "# Load and Read the CSV File Using Pandas read_csv function from excel spreadsheet\n",
    "netflix_df = pd.read_csv(r'C:\\DataAnalytics\\ViewingActivity.csv')\n",
    "\n",
    "#printing first five rows with defined columns of tmdb-movies database\n",
    "netflix_df.head()\n"
   ]
  },
  {
   "cell_type": "markdown",
   "metadata": {},
   "source": [
    "**Generating the shape of our original dataframe in terms of Rows and Columns.**"
   ]
  },
  {
   "cell_type": "code",
   "execution_count": null,
   "metadata": {
    "scrolled": false
   },
   "outputs": [],
   "source": [
    "# dataframe.shape \n",
    "# Get the number of rows and columns\n",
    "print((\"There are {} rows and {} columns in the dataset.\".format(netflix_df.shape[0], netflix_df.shape[1])))\n"
   ]
  },
  {
   "cell_type": "code",
   "execution_count": null,
   "metadata": {},
   "outputs": [],
   "source": [
    "#raw datset summary that displays missing values in each column\n",
    "netflix_df.info()"
   ]
  },
  {
   "cell_type": "markdown",
   "metadata": {},
   "source": [
    "We can see from the above summary that there are no values for the columns \"Attribute\" and \"Supplemental Video Type\".\n",
    "Below we are using a heatmap to visualize the missing value occurence."
   ]
  },
  {
   "cell_type": "code",
   "execution_count": null,
   "metadata": {},
   "outputs": [],
   "source": [
    "#plot a heatmap to visualize the location of missing values\n",
    "sns.heatmap(netflix_df.isnull())\n",
    "plt.show()\n",
    "\n",
    "for i in df.columns:\n",
    "    null_rate = netflix_df[i].isna().sum() / len(netflix_df) * 100 \n",
    "    if null_rate > 0 :\n",
    "        print(\"{}'s null rate :{}%\".format(i,round(null_rate,2)))\n"
   ]
  },
  {
   "cell_type": "markdown",
   "metadata": {},
   "source": [
    "**Checking for Null Values**"
   ]
  },
  {
   "cell_type": "code",
   "execution_count": null,
   "metadata": {},
   "outputs": [],
   "source": [
    "netflix_df.isnull().sum()"
   ]
  },
  {
   "cell_type": "markdown",
   "metadata": {},
   "source": []
  },
  {
   "cell_type": "markdown",
   "metadata": {},
   "source": [
    "**Descriptive Summary Statistics on Raw Data.**"
   ]
  },
  {
   "cell_type": "code",
   "execution_count": null,
   "metadata": {
    "scrolled": true
   },
   "outputs": [],
   "source": [
    "#this function will generate decriptive statistics summary\n",
    "netflix_df.describe()"
   ]
  },
  {
   "cell_type": "markdown",
   "metadata": {},
   "source": [
    "###### **Data Set Observations**<a class=\"anchor\" id=\"dataset observations\"></a>\n",
    "\n",
    "* The movies have a mean popularity of 0.6 with at least 50% having a popularity value of 0.4. The max popularity is 33 and the minimum value is 0.\n",
    "\n",
    "* The movies have a mean budget is 3.091321e+07. Both the minimum values for budget and revenue are 0.\n",
    "\n",
    "* Certain columns, like ‘cast’ and ‘genres’, contain multiple values separated by pipe (|) characters.\n",
    "\n"
   ]
  },
  {
   "cell_type": "markdown",
   "metadata": {},
   "source": [
    "### **Data Cleaning**<a class=\"anchor\" id=\"data cleaning\"></a>\n",
    "Let's clean up the data in order to make it easier to handle since we are only focusing on just a few columns.\n",
    "\n"
   ]
  },
  {
   "cell_type": "markdown",
   "metadata": {},
   "source": [
    "**Dropping Columns that are not needed and set inplace=True so we keep the changes**"
   ]
  },
  {
   "cell_type": "markdown",
   "metadata": {},
   "source": [
    "**Dataset after dropping unwanted columns.**"
   ]
  },
  {
   "cell_type": "markdown",
   "metadata": {},
   "source": [
    "# **Exploratory Data Analysis**<a class=\"anchor\" id=\"exploratory data analysis\"></a>\n",
    "Tip: Now that you've trimmed and cleaned your data, you're ready to move on to exploration. Compute statistics and create visualizations with the goal of addressing the research questions that you posed in the Introduction section. It is recommended that you be systematic with your approach. Look at one variable at a time, and then follow it up by looking at relationships between variables."
   ]
  },
  {
   "cell_type": "markdown",
   "metadata": {},
   "source": [
    "Using a histogram to visualize what the data looks like for each column"
   ]
  },
  {
   "cell_type": "code",
   "execution_count": null,
   "metadata": {},
   "outputs": [],
   "source": []
  }
 ],
 "metadata": {
  "kernelspec": {
   "display_name": "Python 3",
   "language": "python",
   "name": "python3"
  },
  "language_info": {
   "codemirror_mode": {
    "name": "ipython",
    "version": 3
   },
   "file_extension": ".py",
   "mimetype": "text/x-python",
   "name": "python",
   "nbconvert_exporter": "python",
   "pygments_lexer": "ipython3",
   "version": "3.8.3"
  }
 },
 "nbformat": 4,
 "nbformat_minor": 4
}
